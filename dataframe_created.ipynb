{
 "cells": [
  {
   "cell_type": "code",
   "execution_count": 4,
   "metadata": {},
   "outputs": [
    {
     "data": {
      "text/plain": [
       "(103, 3)"
      ]
     },
     "execution_count": 4,
     "metadata": {},
     "output_type": "execute_result"
    }
   ],
   "source": [
    "# import pandas\n",
    "import pandas as pd\n",
    "\n",
    "# import from installed packages\n",
    "from bs4 import BeautifulSoup\n",
    "import requests\n",
    "\n",
    "# scaping data from the webpage\n",
    "source = requests.get('https://en.wikipedia.org/wiki/List_of_postal_codes_of_Canada:_M').text\n",
    "soup = BeautifulSoup(source, 'lxml')\n",
    "table = soup.find('table') # assume only one table in the webpage\n",
    "column = [] # initialising column list used for dataframe index\n",
    "for header in table.find_all('th'):\n",
    "    table_header = header.text\n",
    "    table_header = table_header.replace(\"\\n\", \"\"); # removes end of line\n",
    "    column.append(table_header)\n",
    "    \n",
    "# initialising empty lists for dataframe rows\n",
    "row_data = []\n",
    "row_content = []\n",
    "\n",
    "# initialising empty variables\n",
    "postcode = '' \n",
    "borough = ''\n",
    "neighbourhood = ''\n",
    "prev_postcode = ''\n",
    "prev_neighbourhood = ''\n",
    "\n",
    "for rows in table.find_all('tr'):\n",
    "    for idx, row_text in enumerate(rows.find_all('td')):\n",
    "        if idx == 0:\n",
    "            prev_postcode = postcode\n",
    "            postcode = row_text.text\n",
    "        if idx == 1:\n",
    "            borough = row_text.text\n",
    "        if idx == 2:\n",
    "            prev_neighbourhood = neighbourhood\n",
    "            neighbourhood = row_text.text\n",
    "            neighbourhood = neighbourhood.replace(\"\\n\", \"\"); # removes end of line\n",
    "    if borough != 'Not assigned' and borough != '':\n",
    "        if prev_postcode == postcode and postcode != '':\n",
    "            row_data.remove(row_content)\n",
    "            neighbourhood = prev_neighbourhood + ', ' + neighbourhood\n",
    "        if neighbourhood != 'Not assigned':\n",
    "            row_content = [postcode, borough, neighbourhood]\n",
    "        else:\n",
    "            row_content = [postcode, borough, borough]\n",
    "        row_data.append(row_content)\n",
    "\n",
    "# print number of rows of dataframe\n",
    "Toronto_postcodes = pd.DataFrame(row_data, columns = column) \n",
    "Toronto_postcodes.shape\n"
   ]
  }
 ],
 "metadata": {
  "kernelspec": {
   "display_name": "Python 3.5",
   "language": "python",
   "name": "python3"
  },
  "language_info": {
   "codemirror_mode": {
    "name": "ipython",
    "version": 3
   },
   "file_extension": ".py",
   "mimetype": "text/x-python",
   "name": "python",
   "nbconvert_exporter": "python",
   "pygments_lexer": "ipython3",
   "version": "3.5.5"
  }
 },
 "nbformat": 4,
 "nbformat_minor": 1
}
